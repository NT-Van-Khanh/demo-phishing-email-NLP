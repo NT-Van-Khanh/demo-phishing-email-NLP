{
  "nbformat": 4,
  "nbformat_minor": 0,
  "metadata": {
    "colab": {
      "provenance": []
    },
    "kernelspec": {
      "name": "python3",
      "display_name": "Python 3"
    },
    "language_info": {
      "name": "python"
    }
  },
  "cells": [
    {
      "cell_type": "markdown",
      "source": [
        "# Import"
      ],
      "metadata": {
        "id": "eY1C50dpJzKS"
      }
    },
    {
      "cell_type": "markdown",
      "source": [
        "# Data preprocessing"
      ],
      "metadata": {
        "id": "YraJJFnTQwvn"
      }
    },
    {
      "cell_type": "code",
      "source": [
        "import mailbox\n",
        "import email"
      ],
      "metadata": {
        "id": "je-Elkn0J3nU"
      },
      "execution_count": 30,
      "outputs": []
    },
    {
      "cell_type": "markdown",
      "source": [
        "## Trích xuất nội dung Email"
      ],
      "metadata": {
        "id": "5ZEwrhkOWzXv"
      }
    },
    {
      "cell_type": "markdown",
      "source": [
        "From:\n",
        "https://stackoverflow.com/questions/44717842/python-extract-raw-contents-from-mbox-file\n",
        "https://stackoverflow.com/questions/7166922/extracting-the-body-of-an-email-from-mbox-file-decoding-it-to-plain-text-regard"
      ],
      "metadata": {
        "id": "YBf_LlOI-Cnn"
      }
    },
    {
      "cell_type": "code",
      "source": [
        "def get_email_from_mbox(bmox_file_name):\n",
        "  messages=[]\n",
        "  for message in mailbox.mbox(bmox_file_name):\n",
        "    messages.append(message)\n",
        "  return messages\n",
        "\n",
        "def print_email(message):\n",
        "    print(message)\n",
        "\n",
        "def get_email_from_eml(eml_file_name):\n",
        "  email_message=None\n",
        "  try:\n",
        "      with open(eml_file_name, \"r\") as email_file:\n",
        "          email_message = email.message_from_file(email_file)\n",
        "  except FileNotFoundError:\n",
        "      print(f\"File not found: {eml_file_name}\")\n",
        "  except Exception as e:\n",
        "      print(f\"An error occurred: {e}\")\n",
        "  return email_message\n",
        "\n",
        "def get_from_email(email_message):\n",
        "  return email_message.get(\"From\")\n",
        "\n",
        "def get_subject_email(email_message):\n",
        "  return email_message.get(\"Subject\")\n",
        "\n",
        "def get_content_email(email_message):\n",
        "  body = None\n",
        "  if(email_message.is_multipart()):\n",
        "    for part in email_message.walk():\n",
        "      if(part.is_multipart()):\n",
        "        for subpart in part.walk():\n",
        "          if(subpart.get_content_type() == \"text/plain\"):\n",
        "            body = subpart.get_payload(decode=True)\n",
        "          elif(subpart.get_content_type() == \"text/html\"):\n",
        "            body = subpart.get_payload(decode=True)\n",
        "      elif(part.get_content_type() == \"text/plain\"):\n",
        "        body = part.get_payload(decode=True)\n",
        "  else:\n",
        "    body = email_message.get_payload(decode=True)\n",
        "  return body\n"
      ],
      "metadata": {
        "id": "M0vGJHcsbPak"
      },
      "execution_count": 36,
      "outputs": []
    },
    {
      "cell_type": "markdown",
      "source": [
        "# TEST"
      ],
      "metadata": {
        "id": "wCSC06_UKU3x"
      }
    },
    {
      "cell_type": "code",
      "source": [
        "msg = get_email_from_eml(\"/content/sample1.eml\")\n",
        "messages = get_email_from_mbox(\"/emails-enron-legal-mails.mbox\")\n",
        "if(msg):\n",
        "  print(get_from_email(msg))\n",
        "  print(get_subject_email(msg))\n",
        "  print(get_content_email(msg))"
      ],
      "metadata": {
        "id": "LzTM6l8fKWtI"
      },
      "execution_count": null,
      "outputs": []
    }
  ]
}