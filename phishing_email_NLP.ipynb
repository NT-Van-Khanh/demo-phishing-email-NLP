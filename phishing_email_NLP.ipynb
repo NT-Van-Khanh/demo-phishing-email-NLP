{
  "nbformat": 4,
  "nbformat_minor": 0,
  "metadata": {
    "colab": {
      "provenance": []
    },
    "kernelspec": {
      "name": "python3",
      "display_name": "Python 3"
    },
    "language_info": {
      "name": "python"
    }
  },
  "cells": [
    {
      "cell_type": "markdown",
      "source": [
        "# Import"
      ],
      "metadata": {
        "id": "eY1C50dpJzKS"
      }
    },
    {
      "cell_type": "markdown",
      "source": [
        "# Data preprocessing"
      ],
      "metadata": {
        "id": "YraJJFnTQwvn"
      }
    },
    {
      "cell_type": "code",
      "source": [
        "import mailbox\n",
        "import email"
      ],
      "metadata": {
        "id": "je-Elkn0J3nU"
      },
      "execution_count": null,
      "outputs": []
    },
    {
      "cell_type": "markdown",
      "source": [
        "## Trích xuất nội dung Email"
      ],
      "metadata": {
        "id": "5ZEwrhkOWzXv"
      }
    },
    {
      "cell_type": "code",
      "source": [
        "#def get_email_from_mbox(bmox_file)\n",
        "\n",
        "def get_email(eml_file_name):\n",
        "  try:\n",
        "      with open(eml_file_name, \"r\") as email_file:\n",
        "          email_message = email.message_from_file(email_file)\n",
        "      return email_message\n",
        "  except FileNotFoundError:\n",
        "      print(f\"File not found: {eml_file}\")\n",
        "  except Exception as e:\n",
        "      print(f\"An error occurred: {e}\")\n",
        "  return None\n",
        "\n",
        "def get_from_email(email_message):\n",
        "  return email_message.get(\"From\")\n",
        "\n",
        "def get_subject_email(email_message):\n",
        "  return email_message.get(\"Subject\")\n",
        "\n",
        "def get_content_email(email_message):\n",
        "  return \"\"\n"
      ],
      "metadata": {
        "id": "M0vGJHcsbPak"
      },
      "execution_count": null,
      "outputs": []
    },
    {
      "cell_type": "markdown",
      "source": [
        "# TEST"
      ],
      "metadata": {
        "id": "wCSC06_UKU3x"
      }
    },
    {
      "cell_type": "code",
      "source": [
        "msg = get_email(\"/content/sample-1.eml\")\n",
        "print(msg)\n",
        "print(get_from_email(msg))\n",
        "print(get_subject_email(msg))\n",
        "print(get_content_email(msg))"
      ],
      "metadata": {
        "id": "LzTM6l8fKWtI"
      },
      "execution_count": null,
      "outputs": []
    }
  ]
}